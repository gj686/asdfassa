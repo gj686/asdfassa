{
 "cells": [
  {
   "cell_type": "markdown",
   "metadata": {
    "id": "view-in-github",
    "colab_type": "text"
   },
   "source": [
    "[View in Colaboratory](https://colab.research.google.com/github/hadifar/tweetegram/blob/master/tweetegram.ipynb)"
   ]
  },
  {
   "cell_type": "markdown",
   "metadata": {
    "id": "3-G4K8lqD_Ze",
    "colab_type": "text"
   },
   "source": [
    "# Tweetegram\n",
    "\n",
    "\n",
    "In this tutorial we create a simple app that send your tweet into your telegram channel. At the end of tutorial you will be able to:\n",
    "\n",
    "\n",
    "1.   Familar with tweepy (famous library for usign twitter API)\n",
    "2.   Learn how to use twitter Stream API\n",
    "3.   Familar with Telegram Core API\n",
    "4.   Make http request in telegram\n",
    "\n",
    "---\n",
    "\n",
    "# Twitter\n",
    "\n",
    "First of all, let's do twitter part. Go to [this](https://apps.twitter.com/) link and create a new App. Fill all necessary forms (name, description, and webiste) in that page and press `Create your Twitter application`. \n",
    "\n",
    "![Create an application](https://drive.google.com/file/d/1US7-4ASNFzSVoMwuBW9HtefP7w4QAHHQ/view?usp=sharing)\n",
    "\n",
    "\n",
    "In the next page go to the `Keys and Access Tokens` tab section, to see your *API key* and *API secret*. In this tab and at the end of the page, click on `Create my access token` button. It will generate *Access token* and *Acess token secret*. These 4 keys are necessary for communicating with Twitter API.\n",
    "\n",
    "![Generate All nessary keys and tokens](https://drive.google.com/open?id=1og37imML6NThRgvluHspfrhMv4x271Qm)\n",
    "\n",
    "\n",
    "Twitter part is almost done. You can test your tokens simple application like bellow:\n",
    "\n",
    "\n"
   ]
  },
  {
   "cell_type": "code",
   "execution_count": 0,
   "metadata": {
    "id": "3qbn2MziPjcT",
    "colab_type": "code",
    "colab": {}
   },
   "outputs": [],
   "source": [
    "!pip install tweepy"
   ]
  },
  {
   "cell_type": "code",
   "execution_count": 0,
   "metadata": {
    "id": "KQS-jVMxPblI",
    "colab_type": "code",
    "colab": {}
   },
   "outputs": [],
   "source": [
    "import json\n",
    "\n",
    "from tweepy import OAuthHandler\n",
    "from tweepy import Stream\n",
    "from tweepy import StreamListener\n",
    "\n",
    "class Listener(StreamListener):\n",
    "  \n",
    "   def on_data(self, data):\n",
    "      \n",
    "        all_data = json.loads(data)\n",
    "\n",
    "        tweet = all_data.get(\"text\")\n",
    "        print(tweet)\n",
    "        return True\n"
   ]
  },
  {
   "cell_type": "markdown",
   "metadata": {
    "id": "9l-AfyrHR-_S",
    "colab_type": "code",
    "colab": {}
   },
   "source": [
    "# replace your keys (it's not gonna work)\n",
    "API_KEY= \"JXyUTTY5PDumdFave6JS2xbVC\"\n",
    "API_SECRET = \"W9DCxTEX5HlL2Hb5i6UAZaSZ7CdLgTvHpluJv39Ce2rO0Zjp4U\"\n",
    "ACCESS_TOKEN  = \"2819616027-clMvryugR0JtRcPCKJqTZsllGm8YlY14CAOjOPi\"\n",
    "ACCESS_TOKEN_SECRET = \"uq0UQna5r24K5wISlro7e1quH5AXo9s5EzIdkapxtZjoP\"\n",
    "\n",
    "auth = OAuthHandler(API_KEY, API_SECRET)\n",
    "auth.set_access_token(ACCESS_TOKEN, ACCESS_TOKEN_SECRET)\n",
    "stream = Stream(auth, Listener())\n",
    "\n",
    "stream.filter(track=['google'])\n",
    "\n"
   ]
  },
  {
   "cell_type": "markdown",
   "metadata": {
    "id": "kL5jn2MTUEdn",
    "colab_type": "text"
   },
   "source": [
    "This piece of code will track all tweets with 'google' keyword and print the text for you. That's cool isn't it? Now let's inetegrate our Twitter API with Telegram.\n",
    "\n",
    "# Telegram\n",
    "\n",
    "In order to send your tweets into telegram channel you can create a Telegram Bot to do it for you. There are 3 steps to go:\n",
    "\n",
    "\n",
    "*   Create public Channel\n",
    "*   Create a telegram bot with [BotFather](https://core.telegram.org/bots#3-how-do-i-create-a-bot)\n",
    "*   Set the bot as administrator in your channel\n",
    "\n",
    "\n",
    "Creating Channel, Telegram Bot and set Bot as administrator is fairly easy. When you create a bot with BotFather it will send you a key similar to mine (Use your own key otherwise it not going to work):\n",
    "\n",
    "\n",
    "\n",
    "> **`665963134:AAGYRZ4cMbP_Q2zoCVusiFawSi5bsX9G05U`**\n",
    "\n",
    "\n",
    "Change your Listener class in previous section to bellow:\n"
   ]
  },
  {
   "cell_type": "code",
   "execution_count": 0,
   "metadata": {
    "id": "v8x-e6wyVXgs",
    "colab_type": "code",
    "colab": {}
   },
   "outputs": [],
   "source": [
    "class Listener(StreamListener):\n",
    "  \n",
    "    ENDPOINT = \"https://api.telegram.org/bot{}/sendMessage?chat_id={}&text={}\"\n",
    "    TELEGRAM_BOT_API_KEY = \"665963134:AAGYRZ4cMbP_Q2zoCVusiFawSi5bsX9G05U\"\n",
    "    TELEGRAM_CHANNEL_NAME = \"@my_channel_name\" # @ symbol is mandatory\n",
    "    \n",
    "    def on_data(self, data):\n",
    "        all_data = json.loads(data)\n",
    "\n",
    "        tweet = all_data[\"text\"]\n",
    "        print(tweet)\n",
    "\n",
    "        req = self.ENDPOINT.format(self.TELEGRAM_BOT_API_KEY,\n",
    "                                   self.TELEGRAM_CHANNEL_NAME,\n",
    "                                   tweet)\n",
    "        requests.get(req)\n",
    "\n",
    "        return True\n",
    "\n",
    "    def on_error(self, status):\n",
    "        print ('error with status code' + str(status))"
   ]
  },
  {
   "cell_type": "markdown",
   "metadata": {
    "id": "xESZ6yqsYShI",
    "colab_type": "text"
   },
   "source": [
    "As you can see, we make HTTP request with `requests` package. So before executing above script **do not forget to install requests**.\n",
    "\n",
    "\n",
    "\n",
    "```\n",
    "pip install requests\n",
    "```\n",
    "\n",
    "\n",
    "\n",
    "\n",
    "\n",
    "If you want to stream specific user time-line, you should change your code a little.\n",
    "\n",
    "First, find out twitter account ID with http://mytwitterid.com/ or search google for **How to find our twitter ID\"**. For example my twitter ID is **2810616827**. \n",
    "\n",
    "Change your code into:"
   ]
  },
  {
   "cell_type": "code",
   "execution_count": 0,
   "metadata": {
    "id": "C8oUF8WEYnU0",
    "colab_type": "code",
    "colab": {}
   },
   "outputs": [],
   "source": [
    "    # replace your keys (it's not gonna work)\n",
    "    API_KEY= \"JXyUTTY5PDumdFave6JS2xbVC\"\n",
    "    API_SECRET = \"W9DCxTEX5HlL2Hb5i6UAZaSZ7CdLgTvHpluJv39Ce2rO0Zjp4U\"\n",
    "    ACCESS_TOKEN  = \"2819616027-clMvryugR0JtRcPCKJqTZsllGm8YlY14CAOjOPi\"\n",
    "    ACCESS_TOKEN_SECRET = \"uq0UQna5r24K5wISlro7e1quH5AXo9s5EzIdkapxtZjoP\"\n",
    "\n",
    "    auth = OAuthHandler(API_KEY, API_SECRET)\n",
    "    auth.set_access_token(ACCESS_TOKEN, ACCESS_TOKEN_SECRET)\n",
    "    stream = Stream(auth, Listener())\n",
    "    stream.filter(follow=['2810616827'])  # Listen to my Twitter ID"
   ]
  }
 ],
 "metadata": {
  "colab": {
   "name": "tweetegram.ipynb",
   "version": "0.3.2",
   "provenance": [],
   "include_colab_link": true
  },
  "kernelspec": {
   "name": "python3",
   "display_name": "Python 3"
  }
 },
 "nbformat": 4,
 "nbformat_minor": 0
}
